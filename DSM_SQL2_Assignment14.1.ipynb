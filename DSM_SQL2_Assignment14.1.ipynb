{
 "cells": [
  {
   "cell_type": "code",
   "execution_count": 9,
   "metadata": {},
   "outputs": [],
   "source": [
    "import sqlalchemy\n",
    "from numpy import genfromtxt\n",
    "from time import time\n",
    "from datetime import datetime\n",
    "from sqlalchemy import Column, Integer, Float, Date, String\n",
    "from sqlalchemy.ext.declarative import declarative_base\n",
    "from sqlalchemy import create_engine\n",
    "from sqlalchemy.orm import sessionmaker"
   ]
  },
  {
   "cell_type": "code",
   "execution_count": 10,
   "metadata": {},
   "outputs": [
    {
     "data": {
      "text/plain": [
       "'1.2.7'"
      ]
     },
     "execution_count": 10,
     "metadata": {},
     "output_type": "execute_result"
    }
   ],
   "source": [
    "sqlalchemy.__version__"
   ]
  },
  {
   "cell_type": "code",
   "execution_count": 11,
   "metadata": {},
   "outputs": [],
   "source": [
    "from sqlalchemy import create_engine"
   ]
  },
  {
   "cell_type": "code",
   "execution_count": 12,
   "metadata": {},
   "outputs": [],
   "source": [
    "engine = create_engine('sqlite:///:memory:', echo=True)"
   ]
  },
  {
   "cell_type": "code",
   "execution_count": 13,
   "metadata": {},
   "outputs": [],
   "source": [
    "Base = declarative_base()\n",
    "class Adult_Data(Base):\n",
    "    #Tell SQLAlchemy what the table name is and if there's any table-specific arguments it should know about\n",
    "    __tablename__ = 'Adult_Data'\n",
    "    __table_args__ = {'sqlite_autoincrement': True}\n",
    "    id = Column(Integer, primary_key=True, nullable=False) \n",
    "    age = Column(Integer) \n",
    "    workclass = Column(String) \n",
    "    fnlwgt = Column(Integer)\n",
    "    education=Column(String)\n",
    "    education_num= Column(Integer)\n",
    "    marital_status=Column(String)\n",
    "    occupation=Column(String)\n",
    "    relationship=Column(String)\n",
    "    race = Column(String)\n",
    "    sex = Column(String)\n",
    "    capital_gain = Column(Integer) \n",
    "    capital_loss = Column(Integer) \n",
    "    hours_per_week = Column(Integer)\n",
    "    native_country =Column(String)\n",
    "    wages= Column(Integer)\n",
    "\n",
    "#if __name__ == \"__main__\":\n",
    " #   t = time()\n",
    "\n",
    "    #Create the database\n",
    "    engine = create_engine('sqlite:///adult_data.db')\n",
    "    Base.metadata.create_all(engine)\n",
    "\n",
    "    #Create the session\n",
    "    session = sessionmaker()\n",
    "    session.configure(bind=engine)\n",
    "    s = session()\n",
    "    \n"
   ]
  },
  {
   "cell_type": "code",
   "execution_count": 14,
   "metadata": {},
   "outputs": [
    {
     "name": "stdout",
     "output_type": "stream",
     "text": [
      "2018-06-13 23:24:25,209 INFO sqlalchemy.engine.base.Engine SELECT CAST('test plain returns' AS VARCHAR(60)) AS anon_1\n",
      "2018-06-13 23:24:25,211 INFO sqlalchemy.engine.base.Engine ()\n",
      "2018-06-13 23:24:25,213 INFO sqlalchemy.engine.base.Engine SELECT CAST('test unicode returns' AS VARCHAR(60)) AS anon_1\n",
      "2018-06-13 23:24:25,214 INFO sqlalchemy.engine.base.Engine ()\n",
      "2018-06-13 23:24:25,215 INFO sqlalchemy.engine.base.Engine PRAGMA table_info(\"Adult_Data\")\n",
      "2018-06-13 23:24:25,216 INFO sqlalchemy.engine.base.Engine ()\n",
      "2018-06-13 23:24:25,220 INFO sqlalchemy.engine.base.Engine \n",
      "CREATE TABLE \"Adult_Data\" (\n",
      "\tid INTEGER NOT NULL PRIMARY KEY AUTOINCREMENT, \n",
      "\tage INTEGER, \n",
      "\tworkclass VARCHAR, \n",
      "\tfnlwgt INTEGER, \n",
      "\teducation VARCHAR, \n",
      "\teducation_num INTEGER, \n",
      "\tmarital_status VARCHAR, \n",
      "\toccupation VARCHAR, \n",
      "\trelationship VARCHAR, \n",
      "\trace VARCHAR, \n",
      "\tsex VARCHAR, \n",
      "\tcapital_gain INTEGER, \n",
      "\tcapital_loss INTEGER, \n",
      "\thours_per_week INTEGER, \n",
      "\tnative_country VARCHAR, \n",
      "\twages INTEGER\n",
      ")\n",
      "\n",
      "\n",
      "2018-06-13 23:24:25,221 INFO sqlalchemy.engine.base.Engine ()\n",
      "2018-06-13 23:24:25,222 INFO sqlalchemy.engine.base.Engine COMMIT\n"
     ]
    }
   ],
   "source": [
    "Base.metadata.create_all(engine)"
   ]
  },
  {
   "cell_type": "code",
   "execution_count": 15,
   "metadata": {},
   "outputs": [],
   "source": [
    "from sqlalchemy import update"
   ]
  },
  {
   "cell_type": "code",
   "execution_count": null,
   "metadata": {},
   "outputs": [],
   "source": [
    "stmt = update(Adult_Data).where(users.c.id==5).\\\n",
    "        values(age=45)"
   ]
  },
  {
   "cell_type": "code",
   "execution_count": null,
   "metadata": {},
   "outputs": [],
   "source": [
    "stmt = users.update().\\\n",
    "            where(users.c.id==5).\\\n",
    "            values(sex=Male)"
   ]
  },
  {
   "cell_type": "code",
   "execution_count": null,
   "metadata": {},
   "outputs": [],
   "source": [
    "#Delete query\n",
    "class sqlalchemy.sql.expression.Delete(table, whereclause=None, bind=None, returning=None, prefixes=None, **dialect_kw)\n",
    "Bases: sqlalchemy.sql.expression.UpdateBase"
   ]
  },
  {
   "cell_type": "code",
   "execution_count": null,
   "metadata": {},
   "outputs": [],
   "source": [
    "#Delete query\n",
    "classmethod argument_for(dialect_name, argument_name, default)\n"
   ]
  },
  {
   "cell_type": "code",
   "execution_count": null,
   "metadata": {},
   "outputs": [],
   "source": [
    "from sqlalchemy import text"
   ]
  },
  {
   "cell_type": "code",
   "execution_count": null,
   "metadata": {},
   "outputs": [],
   "source": [
    "for user in session.query(Adult_Data).\\\n",
    "...             filter(text(\"id<224\")).\\\n",
    "...             order_by(text(\"id\")).all():\n",
    "...     print(adult.Age)"
   ]
  }
 ],
 "metadata": {
  "kernelspec": {
   "display_name": "Python 3",
   "language": "python",
   "name": "python3"
  },
  "language_info": {
   "codemirror_mode": {
    "name": "ipython",
    "version": 3
   },
   "file_extension": ".py",
   "mimetype": "text/x-python",
   "name": "python",
   "nbconvert_exporter": "python",
   "pygments_lexer": "ipython3",
   "version": "3.6.5"
  }
 },
 "nbformat": 4,
 "nbformat_minor": 2
}
